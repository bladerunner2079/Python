{
 "cells": [
  {
   "cell_type": "code",
   "execution_count": 1,
   "id": "25cbf189",
   "metadata": {},
   "outputs": [],
   "source": [
    "import quandl\n",
    "import pandas as pd\n",
    "import matplotlib.pyplot as plt\n",
    "from matplotlib.pyplot import figure\n",
    "import datetime"
   ]
  },
  {
   "cell_type": "code",
   "execution_count": 5,
   "id": "3b776a9b",
   "metadata": {},
   "outputs": [],
   "source": [
    "#Q9qxhXuLna-ovk-34Aeg\n",
    "\n",
    "\n",
    "quandl.ApiConfig.api_key = 'sas8vD_nKRZfDaXDUJHC'"
   ]
  },
  {
   "cell_type": "code",
   "execution_count": 7,
   "id": "2329d83e",
   "metadata": {},
   "outputs": [
    {
     "name": "stdout",
     "output_type": "stream",
     "text": [
      "            Value\n",
      "Date             \n",
      "2015-12-31  37.13\n",
      "2016-01-04  36.81\n",
      "2016-01-05  35.97\n",
      "2016-01-06  33.97\n",
      "2016-01-07  33.29\n",
      "...           ...\n",
      "2020-04-15  19.96\n",
      "2020-04-16  19.82\n",
      "2020-04-17  18.31\n",
      "2020-04-20 -36.98\n",
      "2020-04-21   8.91\n",
      "\n",
      "[1078 rows x 1 columns]\n"
     ]
    }
   ],
   "source": [
    "# Pull WTI Crude Oil data from quandl\n",
    "oil = pd.DataFrame(quandl.get(\"FRED/DCOILWTICO\", start_date=\"2015-12-31\", end_date=\"2020-04-21\", collapse=\"daily\"))\n",
    "print(oil)# Output DataFrame to CSV file\n",
    "#oil.to_csv(\"oil.csv\", index=True)"
   ]
  },
  {
   "cell_type": "code",
   "execution_count": 8,
   "id": "fe59bd59",
   "metadata": {},
   "outputs": [
    {
     "data": {
      "image/png": "[encoded data removed]",
      "text/plain": [
       "<Figure size 432x288 with 1 Axes>"
      ]
     },
     "metadata": {
      "needs_background": "light"
     },
     "output_type": "display_data"
    },
    {
     "data": {
      "text/plain": [
       "<Figure size 720x1080 with 0 Axes>"
      ]
     },
     "metadata": {},
     "output_type": "display_data"
    }
   ],
   "source": [
    "# Plot initial data, with specific color\n",
    "plt.plot(oil, color='#7FE5F0')# Label and title adjustments\n",
    "plt.xlabel('Date')\n",
    "plt.ylabel('$ Dollar/Barrel')\n",
    "plt.title('WTI Crude Oil Prices')\n",
    "plt.axhline(0, color='black')\n",
    "plt.xlim(datetime.date(2015, 12, 31),datetime.date(2020, 4, 30))# Resizing and Saving Figure\n",
    "fig = plt.gcf()\n",
    "fig = figure(num=None, figsize=(10,15))\n",
    "fig.savefig('WTICrude.png', dpi=100)"
   ]
  },
  {
   "cell_type": "code",
   "execution_count": 11,
   "id": "c5a1e3b7",
   "metadata": {},
   "outputs": [
    {
     "name": "stdout",
     "output_type": "stream",
     "text": [
      "            Value\n",
      "Date             \n",
      "2001-01-01    4.2\n",
      "2001-02-01    4.2\n",
      "2001-03-01    4.3\n",
      "2001-04-01    4.4\n",
      "2001-05-01    4.3\n",
      "...           ...\n",
      "2019-12-01    3.6\n",
      "2020-01-01    3.5\n",
      "2020-02-01    3.5\n",
      "2020-03-01    4.4\n",
      "2020-04-01   14.7\n",
      "\n",
      "[232 rows x 1 columns]\n"
     ]
    }
   ],
   "source": [
    "# Pull unemployment \n",
    "unemployment = pd.DataFrame(quandl.get(\"FRED/UNRATE\", start_date=\"2000-12-31\", end_date=\"2020-04-20\"))\n",
    "print(unemployment)# Push DataFrame to CSV\n",
    "unemployment.to_csv(\"unemployment.csv\", index=True)"
   ]
  },
  {
   "cell_type": "code",
   "execution_count": null,
   "id": "98f4645f",
   "metadata": {},
   "outputs": [],
   "source": []
  }
 ],
 "metadata": {
  "kernelspec": {
   "display_name": "Python 3 (ipykernel)",
   "language": "python",
   "name": "python3"
  },
  "language_info": {
   "codemirror_mode": {
    "name": "ipython",
    "version": 3
   },
   "file_extension": ".py",
   "mimetype": "text/x-python",
   "name": "python",
   "nbconvert_exporter": "python",
   "pygments_lexer": "ipython3",
   "version": "3.9.7"
  }
 },
 "nbformat": 4,
 "nbformat_minor": 5
}
