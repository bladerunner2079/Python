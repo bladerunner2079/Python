{
 "cells": [
  {
   "cell_type": "markdown",
   "metadata": {},
   "source": [
    "# Fit and Apply Neural Network Model\n",
    "\n",
    "In this exercise we fit and apply a neural network model on a Synthetic and Real Dataset and ‎Evaluate the Results.\n",
    "\n",
    "**Learning Outcomes**\n",
    "1. Fit and apply a Neural Network on a Synthetic and Real data\n",
    "2. Fit and apply a linear regression model using *Sochastic* Gradient descent\n",
    "3. Compare between the capabilities of the linear and non-linear models\n",
    "4. Examine the effect of number of hidden units on the predictive capabilities of the neural ‎network\n",
    "5. Ability to interpret the results of the prediction\n"
   ]
  },
  {
   "cell_type": "code",
   "execution_count": 1,
   "metadata": {},
   "outputs": [],
   "source": [
    "%matplotlib inline\n",
    "\n",
    "import numpy as np\n",
    "import matplotlib.pyplot as plt\n",
    "import matplotlib.cm as cm\n",
    "from mpl_toolkits import mplot3d\n",
    "import time"
   ]
  },
  {
   "cell_type": "code",
   "execution_count": null,
   "metadata": {},
   "outputs": [],
   "source": []
  },
  {
   "cell_type": "markdown",
   "metadata": {},
   "source": [
    "# Generate the Data"
   ]
  },
  {
   "cell_type": "code",
   "execution_count": 2,
   "metadata": {},
   "outputs": [
    {
     "data": {
      "image/png": "[encoded data removed]",
      "text/plain": [
       "<Figure size 432x288 with 1 Axes>"
      ]
     },
     "metadata": {
      "needs_background": "light"
     },
     "output_type": "display_data"
    }
   ],
   "source": [
    "# generate the data\n",
    "def realFunc(x1,x2):\n",
    "    return 2 + 5*x1 + 3*x2\n",
    "    #return 2 + 5*x1**2\n",
    "def generate_data(N=100):\n",
    "    N = N\n",
    "    noise = 2 #40\n",
    "    x1 = np.linspace(-10.0,10.0,N) \n",
    "    x2 = np.linspace(-6.0,10.0,N) \n",
    "    t1 = np.random.normal(realFunc(x1,x2),noise) # target\n",
    "\n",
    "    #plot the data along the real model\n",
    "    plt.plot(x1,t1,'.')\n",
    "    plt.plot(x1,realFunc(x1,x2),'r')\n",
    "\n",
    "    plt.plot(x2,t1,'.')\n",
    "    plt.plot(x2,realFunc(x1,x2),'r')\n",
    "    # generate model solution\n",
    "\n",
    "    X = np.c_[x1,x2]\n",
    "    return X, t1\n",
    "\n",
    "\n",
    "X, t = generate_data()"
   ]
  },
  {
   "cell_type": "code",
   "execution_count": 3,
   "metadata": {},
   "outputs": [
    {
     "data": {
      "text/plain": [
       "(100, 2)"
      ]
     },
     "execution_count": 3,
     "metadata": {},
     "output_type": "execute_result"
    }
   ],
   "source": [
    "X.shape"
   ]
  },
  {
   "cell_type": "code",
   "execution_count": 4,
   "metadata": {},
   "outputs": [],
   "source": [
    "def outSGD(J, w, tme, name='SGD',ax=None, plotJ=True, printw=True):        \n",
    "    if plotJ:\n",
    "        ax = ax or plt.gca()\n",
    "        ax.plot(J[1:],'.b')\n",
    "    if printw:\n",
    "        print(\"y ={}+ {}x1\".format(w[0],w[1]), \" {} took:    {} seconds \".format(name, tme))\n"
   ]
  },
  {
   "cell_type": "code",
   "execution_count": 5,
   "metadata": {},
   "outputs": [],
   "source": [
    "def SGD(w,X,t):                                      # vectorised\n",
    "    N    = len(t)                                    # number of data points\n",
    "    grad = -(1.0/(  N))*X.T*(t - X*w)                # gradient\n",
    "    J    =  (1.0/(2*N))*    (t - X*w).T * (t - X*w)  # the loss\n",
    "    return grad, J"
   ]
  },
  {
   "cell_type": "code",
   "execution_count": 6,
   "metadata": {},
   "outputs": [],
   "source": [
    "def SGD_miniBatch_Learn(X1,t, eta=0.01, maxep=100, decay=0.9): #,  **kwargs): # vectorised\n",
    "    start_time = time.time()\n",
    "    # data perperation......................................\n",
    "    N = X1.shape[0]\n",
    "    M = X1.shape[1]\n",
    "    b = 20                                # mini-batch size\n",
    "    \n",
    "    x0= np.ones(N)              \n",
    "    X = np.c_[x0, X1]                      # add dummy feature\n",
    "    \n",
    "    X = np.matrix(X)\n",
    "    t = np.matrix(t).T\n",
    "\n",
    "    w_all = []        \n",
    "    w = np.ones((M+1,1))                  # initialise w\n",
    "    J = np.zeros((maxep))                 # the loss in each epoch\n",
    "    \n",
    "    for ep in range(maxep):               # epochs\n",
    "        for tau in range(int(N/b)):       # batches\n",
    "            X_= X[tau*b:(tau+1)*b,:]\n",
    "            t_= t[tau*b:(tau+1)*b]\n",
    "            grad, J_ = SGD(w,X_,t_)\n",
    "            w   -= eta*grad\n",
    "            J[ep]+=J_\n",
    "        eta *= decay\n",
    "            #w_all.append(w)\n",
    "\n",
    "    tme = time.time() - start_time\n",
    "    return w, J, tme, w_all \n",
    "\n",
    "\n",
    "def predict(X, w):\n",
    "    N =X.shape[0]\n",
    "    X = np.c_[np.ones(N), X]\n",
    "    return X.dot(w).reshape(N)"
   ]
  },
  {
   "cell_type": "code",
   "execution_count": 7,
   "metadata": {},
   "outputs": [
    {
     "name": "stdout",
     "output_type": "stream",
     "text": [
      "averaged model error = 2.7885994410094064\n",
      "y =[0.83329717]+ [4.57666481]x1  SGD_vectrzd took:    0.0059833526611328125 seconds \n",
      "[[0.83329717]\n",
      " [4.57666481]\n",
      " [3.52792619]]\n"
     ]
    },
    {
     "data": {
      "image/png": "[encoded data removed]",
      "text/plain": [
       "<Figure size 432x288 with 1 Axes>"
      ]
     },
     "metadata": {
      "needs_background": "light"
     },
     "output_type": "display_data"
    }
   ],
   "source": [
    "w, J, tme,_ = SGD_miniBatch_Learn(X, t, eta=0.01, maxep=20, decay=0.95) #, eta, maxep, decay,ax2)\n",
    "\n",
    "print('averaged model error =', np.sqrt(J[-1]))      # note that this will be close to the noise that we add when we generated the data\n",
    "\n",
    "outSGD(J, w, tme, 'SGD_vectrzd')\n",
    "print(w)"
   ]
  },
  {
   "cell_type": "code",
   "execution_count": null,
   "metadata": {},
   "outputs": [],
   "source": []
  },
  {
   "cell_type": "markdown",
   "metadata": {},
   "source": [
    "# Multi-Layers Neural Network with Sigmoid and Linear Activaiton Functions Respectively"
   ]
  },
  {
   "cell_type": "markdown",
   "metadata": {},
   "source": [
    "## Fit and Apply a Neural Network on Our Previous Synthetic  Data"
   ]
  },
  {
   "cell_type": "markdown",
   "metadata": {},
   "source": [
    "Let us try a neural network now on our data"
   ]
  },
  {
   "cell_type": "code",
   "execution_count": 8,
   "metadata": {},
   "outputs": [],
   "source": [
    "from sklearn.neural_network import MLPRegressor\n",
    "from sklearn.datasets import make_regression\n",
    "from sklearn.model_selection import train_test_split\n",
    "from time import time"
   ]
  },
  {
   "cell_type": "code",
   "execution_count": 9,
   "metadata": {},
   "outputs": [],
   "source": [
    "# X, t = generate_data() # uncoment if you want to regenrate a new fresh data"
   ]
  },
  {
   "cell_type": "code",
   "execution_count": 10,
   "metadata": {},
   "outputs": [],
   "source": [
    "regr  = MLPRegressor(random_state=1, hidden_layer_sizes=(5,3), max_iter=10000).fit(X, t)\n",
    "y_nn  = regr.predict(X)\n",
    "R2    = regr.score(X, t)\n",
    "y_SGD = predict(X, w)\n"
   ]
  },
  {
   "cell_type": "markdown",
   "metadata": {},
   "source": [
    "Now we compare between the capabilities of the two models. We need to calculate the R2.\n",
    "We can calculate the SSD and SST easily:\n",
    "\n",
    "1. SSD is the sum of squared prediction errors\n",
    "2. SST is the sum of squared error from the mean of the target\n",
    "3. R2 = 1- SSD/SST\n",
    "\n",
    "It shows how better is our prediction in comparison with predicting via the mean of the targets"
   ]
  },
  {
   "cell_type": "code",
   "execution_count": 11,
   "metadata": {},
   "outputs": [
    {
     "name": "stdout",
     "output_type": "stream",
     "text": [
      "0.998332008744131\n",
      "0.9983015815351745\n",
      "0.9983015815351745\n"
     ]
    }
   ],
   "source": [
    "SSE1 = ((t - y_SGD)**2).sum()\n",
    "SSE2 = ((t - y_nn )**2).sum()\n",
    "SST  = ((t - t.mean())**2).sum()\n",
    "R2_SGD = 1- SSE1/SST\n",
    "R2_NN  = 1- SSE2/SST\n",
    "\n",
    "\n",
    "print(R2_SGD)\n",
    "print(R2_NN)\n",
    "print(R2)  # R2 is identical with R2_NN"
   ]
  },
  {
   "cell_type": "markdown",
   "metadata": {},
   "source": [
    "This shows that our prediction and the Neural Networks prediction are both very good for this simple data. Our SGD is faster because it has less built-in optimisations. Of course SGD is less capable when the data is non-linear."
   ]
  },
  {
   "cell_type": "code",
   "execution_count": 12,
   "metadata": {},
   "outputs": [
    {
     "name": "stdout",
     "output_type": "stream",
     "text": [
      "310.7895063393329\n",
      "186325.62086028603\n",
      "0.998332008744131\n"
     ]
    }
   ],
   "source": [
    "SST = ((t -      t.mean())**2).sum()\n",
    "SSE = ((t - predict(X, w))**2).sum()\n",
    "print(SSE)\n",
    "print(SST)\n",
    "print(1- SSE/SST)"
   ]
  },
  {
   "cell_type": "markdown",
   "metadata": {},
   "source": [
    "Let us now generate new data via sklearn and apply a neural network regressor on the data"
   ]
  },
  {
   "cell_type": "code",
   "execution_count": 13,
   "metadata": {},
   "outputs": [
    {
     "name": "stderr",
     "output_type": "stream",
     "text": [
      "C:\\ProgramData\\Anaconda3\\lib\\site-packages\\sklearn\\neural_network\\_multilayer_perceptron.py:617: ConvergenceWarning: Stochastic Optimizer: Maximum iterations (10000) reached and the optimization hasn't converged yet.\n",
      "  % self.max_iter, ConvergenceWarning)\n"
     ]
    },
    {
     "data": {
      "text/plain": [
       "-0.27025966896459463"
      ]
     },
     "execution_count": 13,
     "metadata": {},
     "output_type": "execute_result"
    }
   ],
   "source": [
    "X, y = make_regression(n_samples=100, random_state=1)\n",
    "X_train, X_test, y_train, y_test = train_test_split(X, y,  random_state=1)\n",
    "\n",
    "regr = MLPRegressor(random_state=1,hidden_layer_sizes=(5,4),max_iter=10000).fit(X_train, y_train)\n",
    "regr.predict(X_test[:2])\n",
    "regr.score(X_test, y_test)"
   ]
  },
  {
   "cell_type": "markdown",
   "metadata": {},
   "source": [
    "Let us examine the coefficients"
   ]
  },
  {
   "cell_type": "code",
   "execution_count": 14,
   "metadata": {},
   "outputs": [
    {
     "data": {
      "text/plain": [
       "[array([[ 1.71509841e-216,  1.50055803e+000, -9.40878048e-001,\n",
       "          1.30699351e+000],\n",
       "        [-1.14341012e-168, -4.09133040e-001,  1.77402019e+000,\n",
       "          9.76278847e-001],\n",
       "        [-4.69906536e-166,  1.29236375e+000, -1.26966315e+000,\n",
       "          1.06428740e+000],\n",
       "        [ 6.05517197e-155,  1.22768913e+000,  1.35355091e+000,\n",
       "          1.66881026e+000],\n",
       "        [ 5.83890954e-214,  1.99459187e+000,  3.39801125e-001,\n",
       "          1.40959444e+000]]), array([[ 1.08036086e-192],\n",
       "        [ 2.19621545e+000],\n",
       "        [-6.86402391e+000],\n",
       "        [ 2.25955633e+000]])]"
      ]
     },
     "execution_count": 14,
     "metadata": {},
     "output_type": "execute_result"
    }
   ],
   "source": [
    "regr.coefs_[1:]"
   ]
  },
  {
   "cell_type": "markdown",
   "metadata": {},
   "source": [
    "## Fit and Apply Neural Network Model on Housing Data"
   ]
  },
  {
   "cell_type": "markdown",
   "metadata": {},
   "source": [
    "Ok now we are ready to apply a neural network to regress the hous prices in Claifronia :)"
   ]
  },
  {
   "cell_type": "code",
   "execution_count": 15,
   "metadata": {},
   "outputs": [],
   "source": [
    "import pandas as pd\n",
    "from sklearn.datasets import fetch_california_housing\n",
    "from sklearn.model_selection import train_test_split"
   ]
  },
  {
   "cell_type": "markdown",
   "metadata": {},
   "source": [
    "### Load the data"
   ]
  },
  {
   "cell_type": "code",
   "execution_count": 16,
   "metadata": {},
   "outputs": [],
   "source": [
    "cal_housing = fetch_california_housing()\n",
    "X = pd.DataFrame(cal_housing.data, columns=cal_housing.feature_names)\n",
    "y = cal_housing.target"
   ]
  },
  {
   "cell_type": "markdown",
   "metadata": {},
   "source": [
    "### Prepare the data"
   ]
  },
  {
   "cell_type": "code",
   "execution_count": 17,
   "metadata": {},
   "outputs": [],
   "source": [
    "\n",
    "y -= y.mean()\n",
    "X = (X-X.min())/(X.max()-X.min())    # rescale\n",
    "X_train, X_test, y_train, y_test = train_test_split( X, y, test_size=0.1, random_state=0)\n"
   ]
  },
  {
   "cell_type": "markdown",
   "metadata": {},
   "source": [
    "### Fit the model\n",
    "Now we are ready to train the neural network"
   ]
  },
  {
   "cell_type": "code",
   "execution_count": 18,
   "metadata": {},
   "outputs": [
    {
     "name": "stdout",
     "output_type": "stream",
     "text": [
      "Training MLPRegressor...\n"
     ]
    },
    {
     "data": {
      "text/plain": [
       "MLPRegressor(early_stopping=True, hidden_layer_sizes=(50, 50),\n",
       "             learning_rate_init=0.01)"
      ]
     },
     "execution_count": 18,
     "metadata": {},
     "output_type": "execute_result"
    }
   ],
   "source": [
    "print(\"Training MLPRegressor...\")\n",
    "tic = time()\n",
    "regre = MLPRegressor(hidden_layer_sizes=(50, 50), learning_rate_init=0.01, early_stopping=True)\n",
    "regre.fit(X_train, y_train)\n"
   ]
  },
  {
   "cell_type": "markdown",
   "metadata": {},
   "source": [
    "We will output the R square value to what extent the model where more successful than just predicting by taking the mean of the data "
   ]
  },
  {
   "cell_type": "code",
   "execution_count": 19,
   "metadata": {},
   "outputs": [
    {
     "name": "stdout",
     "output_type": "stream",
     "text": [
      "done in 5.190s\n",
      "Test R2 score: 0.79\n"
     ]
    }
   ],
   "source": [
    "print(f\"done in {time() - tic:.3f}s\")\n",
    "print(f\"Test R2 score: {regre.score(X_test, y_test):.2f}\")"
   ]
  },
  {
   "cell_type": "markdown",
   "metadata": {},
   "source": [
    "As we can see the R2 is high enough to have confidence in the predicition."
   ]
  },
  {
   "cell_type": "markdown",
   "metadata": {},
   "source": [
    "## Your Turn"
   ]
  },
  {
   "cell_type": "markdown",
   "metadata": {},
   "source": [
    "1. Lookup a regression dataset from [kaggle](https://www.kaggle.com/datasets?search=Regression) or [UCI](https://archive.ics.uci.edu/ml/datasets.php?format=&task=reg&att=&area=&numAtt=&numIns=&type=&sort=nameUp&view=table)\n",
    "2. Try to perfrom a comparison between a linear regression model and a neural network model on the dataset\n",
    "3. Try different basis and \n",
    "4. Employ a pipeline to add regularisaiton to your model\n"
   ]
  },
  {
   "cell_type": "code",
   "execution_count": null,
   "metadata": {},
   "outputs": [],
   "source": []
  }
 ],
 "metadata": {
  "kernelspec": {
   "display_name": "Python 3",
   "language": "python",
   "name": "python3"
  },
  "language_info": {
   "codemirror_mode": {
    "name": "ipython",
    "version": 3
   },
   "file_extension": ".py",
   "mimetype": "text/x-python",
   "name": "python",
   "nbconvert_exporter": "python",
   "pygments_lexer": "ipython3",
   "version": "3.7.3"
  }
 },
 "nbformat": 4,
 "nbformat_minor": 2
}
