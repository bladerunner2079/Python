{
 "cells": [
  {
   "cell_type": "markdown",
   "metadata": {},
   "source": [
    "# Fit and Apply Multi-Output Linear Regression Model\n",
    "\n",
    "In this exercise we fit and apply a a multi-output model on a synthetic dataset and evaluate the results.\n",
    "\n",
    "**Learning Outcomes**\n",
    "1. Fit and apply a multi-output linear regression model on a dataset\n",
    "2. Fit and apply a multi-output linear regression model using *Sochastic* Gradient descent\n",
    "3. Compare between the capabilities of different models using R2"
   ]
  },
  {
   "cell_type": "code",
   "execution_count": 117,
   "metadata": {},
   "outputs": [],
   "source": [
    "%matplotlib inline\n",
    "\n",
    "import numpy as np\n",
    "import matplotlib.pyplot as plt\n",
    "import matplotlib.cm as cm\n",
    "from mpl_toolkits import mplot3d\n",
    "import time"
   ]
  },
  {
   "cell_type": "markdown",
   "metadata": {},
   "source": [
    "# Generate the Data"
   ]
  },
  {
   "cell_type": "code",
   "execution_count": 133,
   "metadata": {},
   "outputs": [
    {
     "data": {
      "image/png": "[encoded data removed]",
      "text/plain": [
       "<Figure size 432x288 with 1 Axes>"
      ]
     },
     "metadata": {
      "needs_background": "light"
     },
     "output_type": "display_data"
    }
   ],
   "source": [
    "# generate the data\n",
    "def realFunc(x1, x2, basis=False):\n",
    "    if not basis:    return 2 + 5*x1 + 3*x2\n",
    "    else:            return 2 + 5*x1**2\n",
    "    \n",
    "def generate_data(N=100, noise=5, basis=False):\n",
    "    N = N\n",
    "    noise = noise\n",
    "    \n",
    "    x1 = np.linspace(-10.0,10.0,N) \n",
    "    x2 = np.linspace(-6.0, 10.0,N) \n",
    "    x3 = np.linspace(-2.0, 2.0, N) \n",
    "    \n",
    "    t1 = np.random.normal(realFunc(x1,x2,basis),noise) # target1\n",
    "    t2 = np.random.normal(realFunc(x2,x3,basis),noise+1) # target2\n",
    "\n",
    "    #plot the data along the real model\n",
    "    plt.plot(x1,t1,'.')\n",
    "    plt.plot(x1,realFunc(x1,x2,basis),'m')\n",
    "\n",
    "    plt.plot(x2,t1,'.')\n",
    "    plt.plot(x2,realFunc(x1,x2,basis),'m')\n",
    "    \n",
    "    plt.plot(x2,t2,'.')\n",
    "    plt.plot(x2,realFunc(x2,x3,basis),'m')\n",
    "\n",
    "    plt.plot(x3,t2,'.')\n",
    "    plt.plot(x3,realFunc(x2,x3,basis),'m')\n",
    "\n",
    "    \n",
    "    # generate model solution\n",
    "    x0= np.ones(len(x1))\n",
    "    X = np.c_[x0, x1, x2, x3]\n",
    "    T = np.c_[t1, t2]\n",
    "\n",
    "    X = np.matrix(X)\n",
    "    T = np.matrix(T)\n",
    "    \n",
    "    return X, T\n",
    "\n",
    "\n",
    "X, T = generate_data(basis=False)   # generate without polynomial basis function\n",
    "#X, T = generate_data(basis=True)   # generate with polynomial basis function, if you used this then you would need to \n",
    "                                    # implement a basis fucntion as we did in an earlier exercise otherwise you'll get high rmse"
   ]
  },
  {
   "cell_type": "code",
   "execution_count": 134,
   "metadata": {},
   "outputs": [
    {
     "name": "stdout",
     "output_type": "stream",
     "text": [
      "(100, 4)\n",
      "(100, 2)\n"
     ]
    }
   ],
   "source": [
    "print(X.shape)\n",
    "print(T.shape)"
   ]
  },
  {
   "cell_type": "code",
   "execution_count": 129,
   "metadata": {},
   "outputs": [],
   "source": [
    "def outGD(J, W, tme, name='SGD',ax=None, plotJ=True, printw=True):        \n",
    "    if plotJ:\n",
    "        ax = ax or plt.gca()\n",
    "        ax.plot(J[1:],'.b')\n",
    "    if printw:\n",
    "        print(  \"y[1] = {:.3f} + {:.3f} X1 + {:.3f} X2 + {:.3f} X3\".format(W[0,0],W[1,0],W[2,0],W[3,0]),\n",
    "              \"\\ny[2] = {:.3f} + {:.3f} X1 + {:.3f} X2 + {:.3f} X3\".format(W[0,1],W[1,1],W[2,1],W[3,1]),'\\n',\n",
    "              \" {} took:    {:.6f} seconds \".format(name, tme))\n"
   ]
  },
  {
   "cell_type": "code",
   "execution_count": 130,
   "metadata": {},
   "outputs": [],
   "source": [
    "def SGD_LR(X, T, eta=0.001, maxep=100, decay=0.98, b=25): # vectorised\n",
    "    start_time = time.time()\n",
    "    b = b                                # mini-batch size\n",
    "    N = X.shape[0]                       # number of data points    \n",
    "    M = X.shape[1]\n",
    "    K = T.shape[1]\n",
    "    \n",
    "    W = np.zeros((M,K))                  # initialise W\n",
    "    J = np.zeros((maxep))                # the loss in each epoch\n",
    "    for ep in range(maxep):              # epochs\n",
    "        for tau in range(int(N/b)):      # No. of batches\n",
    "            \n",
    "            X_= X[tau*b:(tau+1)*b,:]     # take input batch \n",
    "            T_= T[tau*b:(tau+1)*b,:]     # take corresponding target batch\n",
    "            \n",
    "            # we use * as matrices multiplcaiton below because the data is already converted to numpy matrices (not arrays)\n",
    "            # however it is possible to use @ new operator, introduced in version 3.5 to do the same operation on numpy arrays.\n",
    "            W +=  (1.0/(  N))*eta*X_.T*(T_ - X_*W)           # mini-batch Weights update\n",
    "            J_ =  ((1.0/(2*N))*np.array(T_ - X_*W)**2)       # mini-batch loss\n",
    "            \n",
    "            J[ep]+=J_.sum()\n",
    "            \n",
    "        eta *= decay\n",
    "    tme = time.time() - start_time\n",
    "    return W, np.round(np.sqrt(J),4), tme"
   ]
  },
  {
   "cell_type": "code",
   "execution_count": 131,
   "metadata": {},
   "outputs": [],
   "source": [
    "def predict(X, W):\n",
    "    return X*W"
   ]
  },
  {
   "cell_type": "code",
   "execution_count": 132,
   "metadata": {},
   "outputs": [
    {
     "name": "stdout",
     "output_type": "stream",
     "text": [
      "averaged model error =  125.2684\n",
      "y[1] = 36.037 + -31.553 X1 + 46.832 X2 + -6.311 X3 \n",
      "y[2] = 24.273 + -11.736 X1 + 39.158 X2 + -2.347 X3 \n",
      "  SGD_LR took:    0.008975 seconds \n"
     ]
    },
    {
     "data": {
      "image/png": "[encoded data removed]",
      "text/plain": [
       "<Figure size 432x288 with 1 Axes>"
      ]
     },
     "metadata": {
      "needs_background": "light"
     },
     "output_type": "display_data"
    }
   ],
   "source": [
    "W, J, tme = SGD_LR(X, T, eta=0.01, maxep=40, decay=0.99) #, eta, maxep, decay,ax2)\n",
    "\n",
    "print('averaged model error = ', J[-1])      # note that this will be close to the noise that we add when we generated the data\n",
    "\n",
    "outGD(J, W, tme, 'SGD_LR')\n"
   ]
  },
  {
   "cell_type": "code",
   "execution_count": null,
   "metadata": {},
   "outputs": [],
   "source": []
  },
  {
   "cell_type": "markdown",
   "metadata": {},
   "source": [
    "Now we compare between the capabilities of the two models. We need to calculate the R2.\n",
    "We can calculate the SSD and SST easily:\n",
    "\n",
    "1. SSD is the sum of squared prediction errors\n",
    "2. SST is the sum of squared error from the mean of the target\n",
    "3. R2 = 1- SSD/SST\n",
    "\n",
    "It shows how better is our prediction in comparison with predicting via the mean of the targets"
   ]
  },
  {
   "cell_type": "code",
   "execution_count": 126,
   "metadata": {},
   "outputs": [
    {
     "name": "stdout",
     "output_type": "stream",
     "text": [
      "0.9800002809871395\n"
     ]
    }
   ],
   "source": [
    "Y_SGD = predict(X, W)\n",
    "\n",
    "SSE = (np.array(T - Y_SGD   )**2).sum()  # convert back to an array in order to do element-wise multiplication\n",
    "SST = (np.array(T - T.mean())**2).sum()\n",
    "R2_SGD = 1- SSE/SST\n",
    "\n",
    "print(R2_SGD)"
   ]
  },
  {
   "cell_type": "markdown",
   "metadata": {},
   "source": [
    "This shows that our prediction and the Neural Networks prediction are both very good for this simple data. Our SGD is faster because it has less built-in optimisations. Of course SGD is less capable when the data is non-linear."
   ]
  },
  {
   "cell_type": "markdown",
   "metadata": {},
   "source": [
    "Let us now generate new data via sklearn and apply a neural network regressor on the data"
   ]
  },
  {
   "cell_type": "markdown",
   "metadata": {},
   "source": [
    "## Your Turn"
   ]
  },
  {
   "cell_type": "markdown",
   "metadata": {},
   "source": [
    "1. Lookup a regression dataset from [kaggle](https://www.kaggle.com/datasets?search=Regression) or [UCI](https://archive.ics.uci.edu/ml/datasets.php?format=&task=reg&att=&area=&numAtt=&numIns=&type=&sort=nameUp&view=table)\n",
    "2. Try to perfrom a comparison between a multi-output linear regression model and a neural network model on the dataset\n",
    "3. Try different basis \n",
    "4. Split the data into training and testing and apply the above training procedures on the training data and measure the performance (RMSE, R2) on the testing data.\n",
    "4. Split the data into training and testing and apply the above training procedures on the training data and measure the performance (RMSE, R2) on the testing data.\n",
    "5. Consider applying cross validation in the parameter optimisation procedure "
   ]
  },
  {
   "cell_type": "code",
   "execution_count": null,
   "metadata": {},
   "outputs": [],
   "source": []
  }
 ],
 "metadata": {
  "kernelspec": {
   "display_name": "Python 3",
   "language": "python",
   "name": "python3"
  },
  "language_info": {
   "codemirror_mode": {
    "name": "ipython",
    "version": 3
   },
   "file_extension": ".py",
   "mimetype": "text/x-python",
   "name": "python",
   "nbconvert_exporter": "python",
   "pygments_lexer": "ipython3",
   "version": "3.7.3"
  }
 },
 "nbformat": 4,
 "nbformat_minor": 2
}
