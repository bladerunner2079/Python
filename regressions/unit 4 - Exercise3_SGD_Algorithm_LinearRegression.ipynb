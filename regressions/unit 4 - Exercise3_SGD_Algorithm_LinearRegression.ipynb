{
 "cells": [
  {
   "cell_type": "markdown",
   "metadata": {},
   "source": [
    "# Gradient Descent on Linear Regression: Vanilla and Vectorised and Stochastic\n",
    "\n",
    "In this exercise you will see how to implement stochastic gradient descent using numpy. You will also examine how to conduct a grid search to find the best learning rate for a model.\n",
    "\n",
    "**Learning Outcomes**\n",
    "1. Implement gradient descent and stochastic gradient decent solutions for a linear regression problem\n",
    "2. Learn how to take advantage of vectorisation to make the implementation more efficient \n",
    "3. Apply grid search on the learning rate\n",
    "4. See the effect of learning rate on overfitting and underfitting\n",
    "5. Study the effect of the batch size on the performance of the SGD algorithm for LR"
   ]
  },
  {
   "cell_type": "code",
   "execution_count": 1,
   "metadata": {},
   "outputs": [],
   "source": [
    "%matplotlib inline\n",
    "import numpy as np\n",
    "import matplotlib.pyplot as plt\n",
    "from mpl_toolkits import mplot3d\n",
    "import matplotlib.cm as cm\n",
    "import time"
   ]
  },
  {
   "cell_type": "markdown",
   "metadata": {},
   "source": [
    "## Vanilla Gradient Descent (No Vectroisation)"
   ]
  },
  {
   "cell_type": "markdown",
   "metadata": {},
   "source": [
    "Let us first see how to implement a simple gradient descent algroithm for linear regression, where we use for loops without utilising vectorisation."
   ]
  },
  {
   "cell_type": "code",
   "execution_count": 2,
   "metadata": {},
   "outputs": [],
   "source": [
    "# Gradient Descent no vectorised...............\n",
    "def GD_vanilla(X,t, eta=0.001, maxep=100, decay=0.98): # t is the target\n",
    "    start_time = time.time()\n",
    "    \n",
    "    N = len(t)                  # number of data points    \n",
    "    w = np.zeros((2,1))         # initialise w\n",
    "    J = np.zeros((maxep))       # the loss in each epoch \n",
    "    for ep in range(maxep):     # epochs\n",
    "        for n in range(N):      # iterate through the data\n",
    "            \n",
    "            w     += (1.0/(  N))*eta*X[n,:].T*(t[n] - w.T* X[n,:].T)\n",
    "            J[ep] += (1.0/(2*N))*             (t[n] - w.T* X[n,:].T)**2\n",
    "        \n",
    "        eta *= decay\n",
    "        \n",
    "    tme = time.time() - start_time\n",
    "    return w, J, tme"
   ]
  },
  {
   "cell_type": "markdown",
   "metadata": {},
   "source": [
    "## Vectorised Gradient Descent on LR"
   ]
  },
  {
   "cell_type": "markdown",
   "metadata": {},
   "source": [
    "Ok, now we implement the same algorithm but we take advantage of vectorisation. In particular, note how we converted the iteration through the dataset points into by taking advantage of matrices to vector multiplications."
   ]
  },
  {
   "cell_type": "code",
   "execution_count": 3,
   "metadata": {},
   "outputs": [],
   "source": [
    "# Gradient Descent vectorised...............\n",
    "def GD_vectrzd(X,t, eta=0.001, maxep=100, decay=0.98): # vectorised\n",
    "    start_time = time.time()\n",
    "    \n",
    "    N = len(t)                  # number of data points    \n",
    "    w = np.zeros((2,1))         # initialise w\n",
    "    J = np.zeros((maxep))       # the loss in each epoch\n",
    "    for ep in range(maxep):     # epochs\n",
    "        \n",
    "        w     +=  (1.0/(  N))*eta*X.T*(t - X*w)\n",
    "        J[ep]  =  (1.0/(2*N))*        (t - X*w).T * (t - X*w) # the loss\n",
    "        \n",
    "        eta   *=  decay\n",
    "    tme = time.time() - start_time\n",
    "    return w, J, tme\n"
   ]
  },
  {
   "cell_type": "markdown",
   "metadata": {},
   "source": [
    "## Output Helper Function "
   ]
  },
  {
   "cell_type": "markdown",
   "metadata": {},
   "source": [
    "Add some ploting capabilties"
   ]
  },
  {
   "cell_type": "code",
   "execution_count": 71,
   "metadata": {},
   "outputs": [],
   "source": [
    "def outGD(J, w, tme, name='GD',ax=None, plotJ=True, printw=True):        \n",
    "    if plotJ:\n",
    "        ax = ax or plt.gca()\n",
    "        ax.plot(J[1:],'.b')\n",
    "    if printw:\n",
    "        print(\"y = {:.3f} + {:.3f} X1\".format(w[0],w[1]), \" {} took:    {:.6f} seconds \".format(name, tme))\n"
   ]
  },
  {
   "cell_type": "markdown",
   "metadata": {},
   "source": [
    "Ok, so now we are ready to start apply the two algorithms that we have developed above on some data.\n",
    "We like applying newly developed algorithms on synthetic data, because it gives us the freedom to control the shape and complexity of the data in order to gain insight of the algorithm's capabilities. \n",
    "Let us see how."
   ]
  },
  {
   "cell_type": "markdown",
   "metadata": {},
   "source": [
    "## Generate the Data"
   ]
  },
  {
   "cell_type": "code",
   "execution_count": 64,
   "metadata": {},
   "outputs": [
    {
     "data": {
      "image/png": "[encoded data removed]",
      "text/plain": [
       "<Figure size 432x288 with 1 Axes>"
      ]
     },
     "metadata": {
      "needs_background": "light"
     },
     "output_type": "display_data"
    }
   ],
   "source": [
    "# generate the data\n",
    "def realFunc(x1):\n",
    "    return 2 + 5*x1 \n",
    "    #return 2 + 5*x1**2\n",
    "\n",
    "def generate_data(N=100, noise=5):\n",
    "    N = N\n",
    "    noise = noise # 5 #0 # 10\n",
    "    x1 = np.linspace(-10.0,10.0,N) \n",
    "    t  = np.random.normal(realFunc(x1),noise) # target with noise\n",
    "\n",
    "    #plot the data along the real model\n",
    "    plt.plot(x1,t,'.')\n",
    "    plt.plot(x1,realFunc(x1),'r')\n",
    "    return x1, t\n",
    "    # generate model solution\n",
    "    \n",
    "def prepare_data(x1,t):\n",
    "    # data preparation\n",
    "    x0= np.ones(len(x1))     \n",
    "    #X = np.vstack((x0,x1)).T   # add dummy feature\n",
    "    X = np.c_[x0,x1]            # add dummy feature\n",
    "    X = np.matrix(X)            # convert to matrices, you can get rid of this and use the dot operations instead of * \n",
    "    t = np.matrix(t).T\n",
    "    return X, t\n",
    "\n",
    "x1, t = generate_data()\n",
    "X, t = prepare_data(x1, t)"
   ]
  },
  {
   "cell_type": "code",
   "execution_count": 65,
   "metadata": {},
   "outputs": [
    {
     "name": "stdout",
     "output_type": "stream",
     "text": [
      "y =[0.08017964]+ [3.90844464]$x_1$  GD_vanilla took:    0.5655369758605957 seconds \n",
      "y =[0.08265504]+ [3.92425993]$x_1$  GD_vectrzd took:    0.005952358245849609 seconds \n"
     ]
    },
    {
     "data": {
      "image/png": "[encoded data removed]",
      "text/plain": [
       "<Figure size 432x288 with 2 Axes>"
      ]
     },
     "metadata": {
      "needs_background": "light"
     },
     "output_type": "display_data"
    }
   ],
   "source": [
    "# hyper parameters.......................................\n",
    "maxep = 100                    # maximum number of epochs\n",
    "eta   = 0.001                  # learning rate\n",
    "decay = 0.98                   # decay factor\n",
    "# ok now compare vanila with vectroised..................\n",
    "fig, (ax1, ax2) = plt.subplots(2)\n",
    "\n",
    "w,J, tme = GD_vanilla(X,t, eta, maxep, decay)\n",
    "outGD(J, w, tme, 'GD_vanilla', ax1)\n",
    "\n",
    "w,J, tme = GD_vectrzd(X,t, eta, maxep, decay)\n",
    "outGD(J, w, tme, 'GD_vectrzd', ax2)"
   ]
  },
  {
   "cell_type": "markdown",
   "metadata": {},
   "source": [
    "If you play with the learning rate you might encounter instances at which SGD vanila is more resilient to overfitting, while the vectrosied SGD can go quickly into spurious wights when $\\eta$ is high. However, the vectorised SGD is far more stable for lower $\\eta$ values and much faster for more complex dataset. Note the big difference in how many second each took. Let us see these isues first hand."
   ]
  },
  {
   "cell_type": "markdown",
   "metadata": {},
   "source": [
    "### Overfitting due to high learning rate $\\eta$ and high number of epochs"
   ]
  },
  {
   "cell_type": "code",
   "execution_count": 66,
   "metadata": {},
   "outputs": [
    {
     "name": "stdout",
     "output_type": "stream",
     "text": [
      "y =[1.94244096]+ [5.06494435]$x_1$  GD_vanilla took:    0.548130989074707 seconds \n",
      "y =[2.50643367e+09]+ [38.96314433]$x_1$  GD_vectrzd took:    0.004954814910888672 seconds \n"
     ]
    },
    {
     "data": {
      "image/png": "[encoded data removed]",
      "text/plain": [
       "<Figure size 432x288 with 2 Axes>"
      ]
     },
     "metadata": {
      "needs_background": "light"
     },
     "output_type": "display_data"
    }
   ],
   "source": [
    "# hyper parameters.......................................\n",
    "maxep = 100                    # maximum number of epochs\n",
    "eta   = 0.2                    # learning rate\n",
    "decay = 0.98                   # decay factor\n",
    "# ok now compare vanila with vectroised..................\n",
    "fig, (ax1, ax2) = plt.subplots(2)\n",
    "\n",
    "w,J, tme = GD_vanilla(X,t, eta, maxep, decay)\n",
    "outGD(J, w, tme, 'GD_vanilla', ax1)\n",
    "\n",
    "w,J, tme = GD_vectrzd(X,t, eta, maxep, decay)\n",
    "outGD(J, w, tme, 'GD_vectrzd', ax2)"
   ]
  },
  {
   "cell_type": "markdown",
   "metadata": {},
   "source": [
    "### Underfitting due to low value $\\eta$"
   ]
  },
  {
   "cell_type": "code",
   "execution_count": 8,
   "metadata": {},
   "outputs": [
    {
     "name": "stdout",
     "output_type": "stream",
     "text": [
      "y =[0.00968324]+ [0.70057822]x1  GD_vanilla took:    0.6110005378723145 seconds \n",
      "y =[0.0097227]+ [0.70119004]x1  GD_vectrzd took:    0.0059545040130615234 seconds \n"
     ]
    },
    {
     "data": {
      "image/png": "[encoded data removed]",
      "text/plain": [
       "<Figure size 432x288 with 2 Axes>"
      ]
     },
     "metadata": {
      "needs_background": "light"
     },
     "output_type": "display_data"
    }
   ],
   "source": [
    "# hyper parameters.......................................\n",
    "maxep = 100                    # maximum number of epochs\n",
    "eta   = 0.0001                  # learning rate\n",
    "decay = 0.98                   # decay factor\n",
    "# ok now compare vanila with vectroised..................\n",
    "fig, (ax1, ax2) = plt.subplots(2)\n",
    "\n",
    "w,J, tme = GD_vanilla(X,t, eta, maxep, decay)\n",
    "outGD(J, w, tme, 'GD_vanilla', ax1)\n",
    "\n",
    "w,J, tme = GD_vectrzd(X,t, eta, maxep, decay)\n",
    "outGD(J, w, tme, 'GD_vectrzd', ax2)"
   ]
  },
  {
   "cell_type": "markdown",
   "metadata": {},
   "source": [
    "## Grid Search: Comprehensive Comparison on the learning rate $\\eta$"
   ]
  },
  {
   "cell_type": "markdown",
   "metadata": {},
   "source": [
    "Let us conduct a comprehensive comparison for different learning rates for both to study the effect of the learning rate on both algorithms.\n",
    "\n",
    "This is quite expensive... so please be patient as it might take a while to try out all of these learning rates. once this finish the next step will be to visualise the results."
   ]
  },
  {
   "cell_type": "code",
   "execution_count": 54,
   "metadata": {},
   "outputs": [],
   "source": [
    "# hyper parameters.......................................\n",
    "maxep = 100                    # maximum number of epochs\n",
    "#eta   = 0.001                 # learning rate\n",
    "decay = 0.98                   # decay factor\n",
    "# ok now compare vanila with vectroised..................\n",
    "\n",
    "\n",
    "etasL = np.arange(0.01,0.15,0.005)      # reasonably low values\n",
    "etasH = np.arange(0.16,0.5, 0.005)      # High values that cause SGD vectrosied to go a bit mad :-)\n",
    "etas  = np.concatenate((etasL , etasH)) # combine both\n",
    "\n",
    "Jv = np.zeros(len(etas))\n",
    "Jz = np.zeros(len(etas))\n",
    "for i, eta in enumerate(etas):                  # learning rate\n",
    "    w_v,J_v,_ = GD_vanilla(X,t, eta, maxep, decay)\n",
    "    w_z,J_z,_ = GD_vectrzd(X,t, eta, maxep, decay)\n",
    "\n",
    "    Jv[i] = np.sum(J_v[-10:-1]/10.0)\n",
    "    Jz[i] = np.sum(J_z[-10:-1]/10.0)\n",
    "    #print(Jv[i]/len(J_v))"
   ]
  },
  {
   "cell_type": "markdown",
   "metadata": {},
   "source": [
    "### Visualising the Effect of Learning Rates on the Model\n",
    "\n",
    "Ok let us visualise the results to see how the performance changes with the learning rate."
   ]
  },
  {
   "cell_type": "code",
   "execution_count": 55,
   "metadata": {},
   "outputs": [
    {
     "data": {
      "image/png": "[encoded data removed]",
      "text/plain": [
       "<Figure size 432x288 with 4 Axes>"
      ]
     },
     "metadata": {
      "needs_background": "light"
     },
     "output_type": "display_data"
    }
   ],
   "source": [
    "fig, (ax1, ax2) = plt.subplots(2,2)\n",
    "\n",
    "ax1[0].plot(etasL,Jv[:len(etasL)],'.r', label='Avg loss for low $\\\\eta$ on vanilla')\n",
    "ax2[0].plot(etasL,Jz[:len(etasL)],'.b',  label='Avg loss for low $\\\\eta$ on vectorised')\n",
    "\n",
    "ax1[1].plot(etasH,Jv[len(etasL):], '--r', label='Avg loss for high $\\\\eta$ on vanilla')\n",
    "ax2[1].plot(etasH,Jz[len(etasL):],'--b', label='Avg loss for high $\\\\eta$ on vectorised')\n",
    "\n",
    "fig.legend(ncol=2)\n",
    "fig.tight_layout()\n"
   ]
  },
  {
   "cell_type": "markdown",
   "metadata": {},
   "source": [
    "## Stochastic Gradient Descent for Linear Regression"
   ]
  },
  {
   "cell_type": "markdown",
   "metadata": {},
   "source": [
    "Let us Finally Conclude by Implementing a Sotchastic Gradient descent Algorithm by adding the idea of Mini-Batch in our alreayd developed algorithm.\n",
    "\n",
    "You may want to think about how to do this first before you look at the code...\n"
   ]
  },
  {
   "cell_type": "code",
   "execution_count": 67,
   "metadata": {},
   "outputs": [],
   "source": [
    "def SGD_vectrzd(X,t, eta=0.001, maxep=100, decay=0.98, b=25): # vectorised\n",
    "    start_time = time.time()\n",
    "    b = b                              # mini-batch size\n",
    "    N = len(t)                         # number of data points    \n",
    "    w = np.zeros((2,1))                # initialise w\n",
    "    J = np.zeros((maxep))              # the loss in each epoch\n",
    "    for ep in range(maxep):            # epochs\n",
    "        for tau in range(int(N/b)):    # No. of batches\n",
    "            X_= X[tau*b:(tau+1)*b,:]   # take input batch \n",
    "            t_= t[tau*b:(tau+1)*b]     # take corresponding target batch\n",
    "            \n",
    "            w +=  (1.0/(  N))*eta*X_.T*(t_ - X_*w)                  # mini-batch Weights update\n",
    "            J_ =  (1.0/(2*N))*         (t_ - X_*w).T * (t_ - X_*w)  # mini-batch loss\n",
    "            \n",
    "            J[ep]+=J_\n",
    "        eta *= decay\n",
    "    tme = time.time() - start_time\n",
    "    return w, J, tme"
   ]
  },
  {
   "cell_type": "markdown",
   "metadata": {},
   "source": [
    "## Compare Vanilla, Vectroised GD and Vectroised SGD"
   ]
  },
  {
   "cell_type": "markdown",
   "metadata": {},
   "source": [
    "Let us now apply the three algorithms on our synthetic data and see how well they all perfrom"
   ]
  },
  {
   "cell_type": "code",
   "execution_count": 70,
   "metadata": {},
   "outputs": [
    {
     "name": "stdout",
     "output_type": "stream",
     "text": [
      "y =[0.23272466]x0+ [5.02626634]x1  GD_vanila took:    0.2263166904449463 seconds \n",
      "y =[0.25236707]x0+ [5.03384498]x1  GD_vectrzd took:    0.001994609832763672 seconds \n",
      "y =[0.23384079]x0+ [5.0320994]x1  SGD_vectrzd took:    0.010969877243041992 seconds \n"
     ]
    },
    {
     "data": {
      "image/png": "[encoded data removed]",
      "text/plain": [
       "<Figure size 432x288 with 3 Axes>"
      ]
     },
     "metadata": {
      "needs_background": "light"
     },
     "output_type": "display_data"
    }
   ],
   "source": [
    "maxep = 40                    # maximum number of epochs\n",
    "eta   = 0.005                 # learning rate\n",
    "decay = 0.98                  # decay factor\n",
    "# ok now compare vanila with vectroised..................\n",
    "fig, (ax1, ax2, ax3) = plt.subplots(3)\n",
    "\n",
    "w,J, tme = GD_vanilla(X,t, eta, maxep, decay)\n",
    "outGD(J, w, tme, 'GD_vanila', ax1)\n",
    "\n",
    "w,J, tme = GD_vectrzd(X,t, eta, maxep, decay)\n",
    "outGD(J, w, tme, 'GD_vectrzd', ax2)\n",
    "\n",
    "w,J, tme = SGD_vectrzd(X,t, eta, maxep, decay)\n",
    "outGD(J, w, tme, 'SGD_vectrzd', ax3)\n",
    "\n",
    "fig.tight_layout()"
   ]
  },
  {
   "cell_type": "markdown",
   "metadata": {},
   "source": [
    "We can see that the GD_vectrzd is faster in this than SGD_vectrzd, this is generally true when the dataset is small and can be fit by its entirety in the memory. When the dataset is large and we need to chunk it into pieces SGD_vectrzd is faster and produce results as good as the GD_vectrzd"
   ]
  },
  {
   "cell_type": "markdown",
   "metadata": {},
   "source": [
    "## Your Turn"
   ]
  },
  {
   "cell_type": "markdown",
   "metadata": {},
   "source": [
    "### 1. Batch Size OPtimisaiton Study"
   ]
  },
  {
   "cell_type": "markdown",
   "metadata": {},
   "source": [
    "There is a **sweet spot for batch size b**. Your mission is to discover what is it for the given dataset.\n",
    "\n",
    "\n",
    "Try to study the effect of the batch size on the performance and efficiency of the stochastic gradient descent algorithms.\n",
    "\n",
    "You would want to consider employing a grid search on b of the SGD_vectrzd and then plot the results similar to what we have done in the previous section.\n",
    "\n",
    "Ok, to help you we have added, admittedly, the code that you need :)\n"
   ]
  },
  {
   "cell_type": "code",
   "execution_count": 62,
   "metadata": {},
   "outputs": [
    {
     "data": {
      "text/plain": [
       "[<matplotlib.lines.Line2D at 0x1d3ea0ea160>]"
      ]
     },
     "execution_count": 62,
     "metadata": {},
     "output_type": "execute_result"
    },
    {
     "data": {
      "image/png": "[encoded data removed]",
      "text/plain": [
       "<Figure size 432x288 with 2 Axes>"
      ]
     },
     "metadata": {
      "needs_background": "light"
     },
     "output_type": "display_data"
    }
   ],
   "source": [
    "fig, (ax1, ax2) = plt.subplots(2,1)\n",
    "\n",
    "maxep = 40                    # maximum number of epochs\n",
    "eta   = 0.005                 # learning rate\n",
    "decay = 0.98                  # decay factor\n",
    "\n",
    "N = X.shape[0]\n",
    "bs = np.arange(1, N, step=2)\n",
    "J_SGD = np.zeros(len(bs))     # to hold the loss of the SGD_vectrzd for each batch size \n",
    "tm_SGD = np.zeros(len(bs))    # to hold the time of the SGD_vectrzd for each batch size \n",
    "\n",
    "for i, b in enumerate(bs):\n",
    "    \n",
    "    pass # replace this by a call to #  _,J_SGD_i, tm_SGD[i] = SGD_vectrzd(X,t, eta, maxep, decay, b=b)\n",
    "    J_SGD[i]  = J_SGD_i.sum()\n",
    "    \n",
    "\n",
    "ax1.plot(J_SGD,'-')\n",
    "ax2.plot(tm_SGD,'-')\n",
    "\n",
    "# add some annotaiton for the figures and find the minimum for the loss\n",
    "# ...\n"
   ]
  },
  {
   "cell_type": "markdown",
   "metadata": {},
   "source": [
    "### Implement R2\n",
    "\n",
    "Implement a funciton that calculate R2 = 1- SSE/SST"
   ]
  },
  {
   "cell_type": "markdown",
   "metadata": {},
   "source": [
    "### 2. Split the data \n",
    "Consider splitting the data into training and testing and apply the above training procedures on the training data and measure the performance (RMSE, R2) on the testing data."
   ]
  },
  {
   "cell_type": "code",
   "execution_count": null,
   "metadata": {},
   "outputs": [],
   "source": []
  }
 ],
 "metadata": {
  "kernelspec": {
   "display_name": "Python 3",
   "language": "python",
   "name": "python3"
  },
  "language_info": {
   "codemirror_mode": {
    "name": "ipython",
    "version": 3
   },
   "file_extension": ".py",
   "mimetype": "text/x-python",
   "name": "python",
   "nbconvert_exporter": "python",
   "pygments_lexer": "ipython3",
   "version": "3.7.3"
  }
 },
 "nbformat": 4,
 "nbformat_minor": 2
}
